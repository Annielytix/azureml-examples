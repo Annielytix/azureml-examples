{
 "cells": [
  {
   "cell_type": "raw",
   "metadata": {},
   "source": [
    "!az ml workspace create --name cody-test-cli-v2"
   ]
  }
 ],
 "metadata": {
  "kernelspec": {
   "display_name": "Python 3.8.8 64-bit ('dkdc': conda)",
   "name": "python388jvsc74a57bd06813bb6deec483ed15ac37ef074baa52622250b2b65156cf2f3313d85d7e0391"
  },
  "language_info": {
   "name": "python",
   "version": ""
  }
 },
 "nbformat": 4,
 "nbformat_minor": 4
}